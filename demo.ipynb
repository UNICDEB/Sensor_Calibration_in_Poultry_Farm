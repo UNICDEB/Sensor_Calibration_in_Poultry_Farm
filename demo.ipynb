{
 "cells": [
  {
   "cell_type": "code",
   "execution_count": null,
   "metadata": {},
   "outputs": [],
   "source": []
  },
  {
   "cell_type": "code",
   "execution_count": 37,
   "metadata": {},
   "outputs": [],
   "source": [
    "import numpy as np\n",
    "import pandas as pd\n",
    "import matplotlib as plt"
   ]
  },
  {
   "cell_type": "code",
   "execution_count": 4,
   "metadata": {},
   "outputs": [],
   "source": [
    "device_07 = pd.read_excel(\"device_07.xlsx\")"
   ]
  },
  {
   "cell_type": "code",
   "execution_count": 21,
   "metadata": {},
   "outputs": [],
   "source": [
    "device_10 = pd.read_excel(\"device_10.xlsx\")"
   ]
  },
  {
   "cell_type": "code",
   "execution_count": null,
   "metadata": {},
   "outputs": [],
   "source": [
    "device_10.head()"
   ]
  },
  {
   "cell_type": "code",
   "execution_count": 27,
   "metadata": {},
   "outputs": [
    {
     "data": {
      "text/plain": [
       "{0.0, 2.0, 32.5, 65535.0}"
      ]
     },
     "execution_count": 27,
     "metadata": {},
     "output_type": "execute_result"
    }
   ],
   "source": [
    "common_values_1 = set(device_07['Temp(°C)'].values).intersection(set(device_10['Temp(°C)'].values))\n",
    "common_values_1"
   ]
  },
  {
   "cell_type": "code",
   "execution_count": 36,
   "metadata": {},
   "outputs": [
    {
     "name": "stdout",
     "output_type": "stream",
     "text": [
      "The maximum and minimum temperature difference is:  65501.0 -38.0\n",
      "The maximum and minimum humidity difference is:  70.0 -67.0\n",
      "The maximum and minimum co2 difference is: 23218.0 -3797.0\n",
      "The maximum and minimum nh3 difference is: 555.9 -65.66\n"
     ]
    }
   ],
   "source": [
    "temp_value_1 = list(device_07['Temp(°C)'].values)\n",
    "temp_value_2 = list(device_10['Temp(°C)'].values)\n",
    "humd_value_1 = list(device_07['Humidity(%RH)'].values)\n",
    "humd_value_2 = list(device_10['Humidity(%RH)'].values)\n",
    "co2_value_1 = list(device_07['CO2(ppm)'].values)\n",
    "co2_value_2 = list(device_10['CO2(ppm)'].values)\n",
    "nh3_value_1 = list(device_07['Ammonia(ppm)'].values)\n",
    "nh3_value_2 = list(device_10['Ammonia(ppm)'].values)\n",
    "\n",
    "temp_result = []\n",
    "humd_result = []\n",
    "co2_result = []\n",
    "nh3_result = []\n",
    "for i in range(len(temp_value_1)):\n",
    "    temp_result.append(temp_value_1[i] - temp_value_2[i])\n",
    "    humd_result.append(humd_value_1[i] - humd_value_2[i])\n",
    "    co2_result.append(co2_value_1[i] -  co2_value_2[i])\n",
    "    nh3_result.append(nh3_value_1[i] - nh3_value_2[i])\n",
    "    \n",
    "# df = pd.DataFrame(result, columns=[\"Temperature Difference\"])\n",
    "# df.to_excel(\"output.xlsx\", index=False)\n",
    "print('The maximum and minimum temperature difference is: ', max(temp_result) , min(temp_result))\n",
    "print('The maximum and minimum humidity difference is: ', max(humd_result), min(humd_result))\n",
    "print(\"The maximum and minimum co2 difference is:\", max(co2_result), min(co2_result))\n",
    "print(\"The maximum and minimum nh3 difference is:\", max(nh3_result), min(nh3_result))"
   ]
  },
  {
   "cell_type": "code",
   "execution_count": 41,
   "metadata": {},
   "outputs": [
    {
     "data": {
      "text/plain": [
       "<AxesSubplot:>"
      ]
     },
     "execution_count": 41,
     "metadata": {},
     "output_type": "execute_result"
    },
    {
     "data": {
      "image/png": "[encoded data removed]",
      "text/plain": [
       "<Figure size 432x288 with 1 Axes>"
      ]
     },
     "metadata": {
      "needs_background": "light"
     },
     "output_type": "display_data"
    }
   ],
   "source": [
    "device_07.plot()"
   ]
  },
  {
   "cell_type": "code",
   "execution_count": null,
   "metadata": {},
   "outputs": [],
   "source": [
    "data = pd.read_excel(\"Data01.xlsx\")\n",
    "data.head()"
   ]
  },
  {
   "cell_type": "code",
   "execution_count": 25,
   "metadata": {},
   "outputs": [],
   "source": [
    "new_data = data[['Temp(øC)', 'CO2(ppm)', 'Humidity(%RH)', 'Ammonia(ppm)', 'Factored Ammonia', 'Dust(ppm)']]"
   ]
  },
  {
   "cell_type": "code",
   "execution_count": 26,
   "metadata": {},
   "outputs": [
    {
     "name": "stdout",
     "output_type": "stream",
     "text": [
      "<class 'pandas.core.frame.DataFrame'>\n",
      "RangeIndex: 415907 entries, 0 to 415906\n",
      "Data columns (total 6 columns):\n",
      " #   Column            Non-Null Count   Dtype  \n",
      "---  ------            --------------   -----  \n",
      " 0   Temp(øC)          415907 non-null  float64\n",
      " 1   CO2(ppm)          415907 non-null  float64\n",
      " 2   Humidity(%RH)     415907 non-null  float64\n",
      " 3   Ammonia(ppm)      415907 non-null  float64\n",
      " 4   Factored Ammonia  415907 non-null  float64\n",
      " 5   Dust(ppm)         415907 non-null  float64\n",
      "dtypes: float64(6)\n",
      "memory usage: 19.0 MB\n"
     ]
    }
   ],
   "source": [
    "new_data.info()"
   ]
  },
  {
   "cell_type": "code",
   "execution_count": 22,
   "metadata": {},
   "outputs": [
    {
     "data": {
      "text/html": [
       "<div>\n",
       "<style scoped>\n",
       "    .dataframe tbody tr th:only-of-type {\n",
       "        vertical-align: middle;\n",
       "    }\n",
       "\n",
       "    .dataframe tbody tr th {\n",
       "        vertical-align: top;\n",
       "    }\n",
       "\n",
       "    .dataframe thead th {\n",
       "        text-align: right;\n",
       "    }\n",
       "</style>\n",
       "<table border=\"1\" class=\"dataframe\">\n",
       "  <thead>\n",
       "    <tr style=\"text-align: right;\">\n",
       "      <th></th>\n",
       "      <th>Temp(øC)</th>\n",
       "      <th>CO2(ppm)</th>\n",
       "      <th>Humidity(%RH)</th>\n",
       "      <th>Ammonia(ppm)</th>\n",
       "      <th>Factored Ammonia</th>\n",
       "      <th>Dust(ppm)</th>\n",
       "    </tr>\n",
       "  </thead>\n",
       "  <tbody>\n",
       "    <tr>\n",
       "      <th>0</th>\n",
       "      <td>29</td>\n",
       "      <td>736</td>\n",
       "      <td>23</td>\n",
       "      <td>0</td>\n",
       "      <td>0</td>\n",
       "      <td>0</td>\n",
       "    </tr>\n",
       "    <tr>\n",
       "      <th>1</th>\n",
       "      <td>28</td>\n",
       "      <td>536</td>\n",
       "      <td>21</td>\n",
       "      <td>0</td>\n",
       "      <td>0</td>\n",
       "      <td>0</td>\n",
       "    </tr>\n",
       "    <tr>\n",
       "      <th>2</th>\n",
       "      <td>28</td>\n",
       "      <td>524</td>\n",
       "      <td>21</td>\n",
       "      <td>0</td>\n",
       "      <td>0</td>\n",
       "      <td>0</td>\n",
       "    </tr>\n",
       "    <tr>\n",
       "      <th>3</th>\n",
       "      <td>28</td>\n",
       "      <td>473</td>\n",
       "      <td>20</td>\n",
       "      <td>0</td>\n",
       "      <td>0</td>\n",
       "      <td>0</td>\n",
       "    </tr>\n",
       "    <tr>\n",
       "      <th>4</th>\n",
       "      <td>28</td>\n",
       "      <td>462</td>\n",
       "      <td>22</td>\n",
       "      <td>0</td>\n",
       "      <td>0</td>\n",
       "      <td>0</td>\n",
       "    </tr>\n",
       "  </tbody>\n",
       "</table>\n",
       "</div>"
      ],
      "text/plain": [
       "   Temp(øC)  CO2(ppm)  Humidity(%RH)  Ammonia(ppm)  Factored Ammonia  \\\n",
       "0        29       736             23             0                 0   \n",
       "1        28       536             21             0                 0   \n",
       "2        28       524             21             0                 0   \n",
       "3        28       473             20             0                 0   \n",
       "4        28       462             22             0                 0   \n",
       "\n",
       "   Dust(ppm)  \n",
       "0          0  \n",
       "1          0  \n",
       "2          0  \n",
       "3          0  \n",
       "4          0  "
      ]
     },
     "execution_count": 22,
     "metadata": {},
     "output_type": "execute_result"
    }
   ],
   "source": [
    "new_data.head()"
   ]
  },
  {
   "cell_type": "code",
   "execution_count": null,
   "metadata": {},
   "outputs": [],
   "source": []
  }
 ],
 "metadata": {
  "kernelspec": {
   "display_name": "base",
   "language": "python",
   "name": "python3"
  },
  "language_info": {
   "codemirror_mode": {
    "name": "ipython",
    "version": 3
   },
   "file_extension": ".py",
   "mimetype": "text/x-python",
   "name": "python",
   "nbconvert_exporter": "python",
   "pygments_lexer": "ipython3",
   "version": "3.9.12"
  }
 },
 "nbformat": 4,
 "nbformat_minor": 2
}
