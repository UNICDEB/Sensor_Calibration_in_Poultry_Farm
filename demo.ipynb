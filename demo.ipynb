{
 "cells": [
  {
   "cell_type": "code",
   "execution_count": null,
   "metadata": {},
   "outputs": [],
   "source": []
  },
  {
   "cell_type": "code",
   "execution_count": 10,
   "metadata": {},
   "outputs": [],
   "source": [
    "import numpy as np\n",
    "import pandas as pd\n",
    "import matplotlib as plt"
   ]
  },
  {
   "cell_type": "code",
   "execution_count": 11,
   "metadata": {},
   "outputs": [],
   "source": [
    "device_07 = pd.read_excel(\"device_07.xlsx\")\n",
    "device_10 = pd.read_excel(\"device_10.xlsx\")\n",
    "device_14 = pd.read_excel('device_14.xlsx')\n",
    "device_16 = pd.read_excel('device_16.xlsx')\n",
    "device_19 = pd.read_excel('device_19.xlsx')\n",
    "device_28 = pd.read_excel('device_28.xlsx')\n",
    "device_30 = pd.read_excel('device_30.xlsx')\n",
    "device_37 = pd.read_excel('device_37.xlsx')\n",
    "device_38 = pd.read_excel('device_38.xlsx')\n",
    "device_40 = pd.read_excel('device_40.xlsx')"
   ]
  },
  {
   "cell_type": "code",
   "execution_count": 56,
   "metadata": {},
   "outputs": [
    {
     "data": {
      "text/plain": [
       "Index(['Date_Time', 'Date', 'Time', 'Temp(°C)', 'CO2(ppm)', 'Humidity(%RH)',\n",
       "       'Velocity(m/s)', 'Ammonia(ppm)', 'Factored Ammonia', 'Dust(ppm)'],\n",
       "      dtype='object')"
      ]
     },
     "execution_count": 56,
     "metadata": {},
     "output_type": "execute_result"
    }
   ],
   "source": [
    "device_07.columns"
   ]
  },
  {
   "cell_type": "code",
   "execution_count": 86,
   "metadata": {},
   "outputs": [],
   "source": [
    "def calibration(device):\n",
    "    # Select a specific range of data\n",
    "    device['Date'] = pd.to_datetime(device['Date'])\n",
    "    start_date = '2023-03-03'\n",
    "    end_date = '2023-09-07'\n",
    "    mask = (device['Date'] >= start_date) & (device['Date'] <= end_date)\n",
    "    data = device_10.loc[mask]\n",
    "\n",
    "    # Max & Min\n",
    "    print(\"Temperature is - \\n\",data['Temp(°C)'].agg(['min', 'max']))\n",
    "    print(\"Humidity is - \\n\", data['Humidity(%RH)'].agg(['min', 'max']))\n",
    "    print(\"Co2 is - \\n\", data['CO2(ppm)'].agg(['min', 'max']))\n",
    "    print(\"Ammonia is - \\n\",data['Factored Ammonia'].agg(['min', 'max']) )\n",
    "    print(\"Dust is - \\n\", data['Dust(ppm)'].agg(['min', 'max']))"
   ]
  },
  {
   "cell_type": "code",
   "execution_count": 87,
   "metadata": {},
   "outputs": [
    {
     "name": "stdout",
     "output_type": "stream",
     "text": [
      "Temperature is - \n",
      " min    21\n",
      "max    44\n",
      "Name: Temp(°C), dtype: int64\n",
      "Humidity is - \n",
      " min    13.0\n",
      "max    84.0\n",
      "Name: Humidity(%RH), dtype: float64\n",
      "Co2 is - \n",
      " min     139.0\n",
      "max    1117.0\n",
      "Name: CO2(ppm), dtype: float64\n",
      "Ammonia is - \n",
      " min     0.000000\n",
      "max    15.852353\n",
      "Name: Factored Ammonia, dtype: float64\n",
      "Dust is - \n",
      " min    0.00\n",
      "max    0.56\n",
      "Name: Dust(ppm), dtype: float64\n"
     ]
    }
   ],
   "source": [
    "calibration(device_40)"
   ]
  },
  {
   "cell_type": "code",
   "execution_count": null,
   "metadata": {},
   "outputs": [],
   "source": []
  },
  {
   "cell_type": "code",
   "execution_count": null,
   "metadata": {},
   "outputs": [],
   "source": []
  },
  {
   "cell_type": "code",
   "execution_count": 22,
   "metadata": {},
   "outputs": [
    {
     "name": "stdout",
     "output_type": "stream",
     "text": [
      "All Temp. -  min        0.0\n",
      "max    65535.0\n",
      "Name: Temp(°C), dtype: float64 min    16\n",
      "max    44\n",
      "Name: Temp(°C), dtype: int64 min     0.0\n",
      "max    40.0\n",
      "Name: Temp(°C), dtype: float64 min     0.0\n",
      "max    45.0\n",
      "Name: Temp(°C), dtype: float64 min    19\n",
      "max    42\n",
      "Name: Temp(°C), dtype: int64 min    17\n",
      "max    43\n",
      "Name: Temp(°C), dtype: int64 min    16\n",
      "max    43\n",
      "Name: Temp(°C), dtype: int64 min    17\n",
      "max    44\n",
      "Name: Temp(°C), dtype: int64 min    16\n",
      "max    44\n",
      "Name: Temp(°C), dtype: int64\n",
      "All Humd -  min     6.0\n",
      "max    90.0\n",
      "Name: Humidity(%RH), dtype: float64 min     5.0\n",
      "max    90.0\n",
      "Name: Humidity(%RH), dtype: float64 min     6.0\n",
      "max    90.0\n",
      "Name: Humidity(%RH), dtype: float64 min     5.0\n",
      "max    90.0\n",
      "Name: Humidity(%RH), dtype: float64 min    12.0\n",
      "max    90.0\n",
      "Name: Humidity(%RH), dtype: float64 min     7.0\n",
      "max    90.0\n",
      "Name: Humidity(%RH), dtype: float64 min     7.0\n",
      "max    94.0\n",
      "Name: Humidity(%RH), dtype: float64 min     3.0\n",
      "max    94.0\n",
      "Name: Humidity(%RH), dtype: float64 min     0.0\n",
      "max    90.0\n",
      "Name: Humidity(%RH), dtype: float64\n",
      "All Co2 -  min        0.0\n",
      "max    23547.0\n",
      "Name: CO2(ppm), dtype: float64 min     125.0\n",
      "max    4155.0\n",
      "Name: CO2(ppm), dtype: float64 min        0.0\n",
      "max    32501.0\n",
      "Name: CO2(ppm), dtype: float64 min        0.0\n",
      "max    40000.0\n",
      "Name: CO2(ppm), dtype: float64 min       0.0\n",
      "max    2502.0\n",
      "Name: CO2(ppm), dtype: float64 min     121.0\n",
      "max    3280.0\n",
      "Name: CO2(ppm), dtype: float64 min      49.0\n",
      "max    2964.0\n",
      "Name: CO2(ppm), dtype: float64 min       0.0\n",
      "max    1839.0\n",
      "Name: CO2(ppm), dtype: float64 min       0.0\n",
      "max    3304.0\n",
      "Name: CO2(ppm), dtype: float64\n"
     ]
    },
    {
     "data": {
      "text/plain": [
       "min    0.00\n",
       "max    0.56\n",
       "Name: Dust(ppm), dtype: float64"
      ]
     },
     "execution_count": 22,
     "metadata": {},
     "output_type": "execute_result"
    }
   ],
   "source": [
    "# For Temperature\n",
    "device_07['Temp(°C)'].agg(['min', 'max'])\n",
    "device_10['Temp(°C)'].agg(['min', 'max'])\n",
    "device_14['Temp(°C)'].agg(['min', 'max'])\n",
    "device_16['Temp(°C)'].agg(['min', 'max'])\n",
    "device_19['Temp(°C)'].agg(['min', 'max'])\n",
    "device_28['Temp(°C)'].agg(['min', 'max'])\n",
    "device_30['Temp(°C)'].agg(['min', 'max'])\n",
    "device_38['Temp(°C)'].agg(['min', 'max'])\n",
    "device_40['Temp(°C)'].agg(['min', 'max'])\n",
    "\n",
    "# For Humidity\n",
    "device_07['Humidity(%RH)'].agg(['min', 'max'])\n",
    "device_10['Humidity(%RH)'].agg(['min', 'max'])\n",
    "device_14['Humidity(%RH)'].agg(['min', 'max'])\n",
    "device_16['Humidity(%RH)'].agg(['min', 'max'])\n",
    "device_19['Humidity(%RH)'].agg(['min', 'max'])\n",
    "device_28['Humidity(%RH)'].agg(['min', 'max'])\n",
    "device_30['Humidity(%RH)'].agg(['min', 'max'])\n",
    "device_38['Humidity(%RH)'].agg(['min', 'max'])\n",
    "device_40['Humidity(%RH)'].agg(['min', 'max'])\n",
    "\n",
    "# For co2\n",
    "device_07['CO2(ppm)'].agg(['min', 'max'])\n",
    "device_10['CO2(ppm)'].agg(['min', 'max'])\n",
    "device_14['CO2(ppm)'].agg(['min', 'max'])\n",
    "device_16['CO2(ppm)'].agg(['min', 'max'])\n",
    "device_19['CO2(ppm)'].agg(['min', 'max'])\n",
    "device_28['CO2(ppm)'].agg(['min', 'max'])\n",
    "device_30['CO2(ppm)'].agg(['min', 'max'])\n",
    "device_38['CO2(ppm)'].agg(['min', 'max'])\n",
    "device_40['CO2(ppm)'].agg(['min', 'max'])\n",
    "\n",
    "# # For Nh3\n",
    "# device_07['Factored Ammonia'].agg(['min', 'max'])\n",
    "# device_10['Factored Ammonia'].agg(['min', 'max'])\n",
    "# device_14['Factored Ammonia'].agg(['min', 'max'])\n",
    "# device_16['Factored Ammonia'].agg(['min', 'max'])\n",
    "# device_19['Factored Ammonia'].agg(['min', 'max'])\n",
    "# device_28['Factored Ammonia'].agg(['min', 'max'])\n",
    "# device_30['Factored Ammonia'].agg(['min', 'max'])\n",
    "# device_38['Factored Ammonia'].agg(['min', 'max'])\n",
    "# device_40['Factored Ammonia'].agg(['min', 'max'])\n",
    "\n",
    "# For Dust\n",
    "device_07['Dust(ppm)'].agg(['min', 'max'])\n",
    "device_10['Dust(ppm)'].agg(['min', 'max'])\n",
    "device_14['Dust(ppm)'].agg(['min', 'max'])\n",
    "device_16['Dust(ppm)'].agg(['min', 'max'])\n",
    "device_19['Dust(ppm)'].agg(['min', 'max'])\n",
    "device_28['Dust(ppm)'].agg(['min', 'max'])\n",
    "device_30['Dust(ppm)'].agg(['min', 'max'])\n",
    "device_38['Dust(ppm)'].agg(['min', 'max'])\n",
    "device_40['Dust(ppm)'].agg(['min', 'max'])\n"
   ]
  },
  {
   "cell_type": "code",
   "execution_count": 20,
   "metadata": {},
   "outputs": [
    {
     "name": "stdout",
     "output_type": "stream",
     "text": [
      "16 44\n"
     ]
    }
   ],
   "source": []
  },
  {
   "cell_type": "code",
   "execution_count": 27,
   "metadata": {},
   "outputs": [
    {
     "data": {
      "text/plain": [
       "{0.0, 2.0, 32.5, 65535.0}"
      ]
     },
     "execution_count": 27,
     "metadata": {},
     "output_type": "execute_result"
    }
   ],
   "source": [
    "common_values_1 = set(device_07['Temp(°C)'].values).intersection(set(device_10['Temp(°C)'].values))\n",
    "common_values_1"
   ]
  },
  {
   "cell_type": "code",
   "execution_count": 36,
   "metadata": {},
   "outputs": [
    {
     "name": "stdout",
     "output_type": "stream",
     "text": [
      "The maximum and minimum temperature difference is:  65501.0 -38.0\n",
      "The maximum and minimum humidity difference is:  70.0 -67.0\n",
      "The maximum and minimum co2 difference is: 23218.0 -3797.0\n",
      "The maximum and minimum nh3 difference is: 555.9 -65.66\n"
     ]
    }
   ],
   "source": [
    "temp_value_1 = list(device_07['Temp(°C)'].values)\n",
    "temp_value_2 = list(device_10['Temp(°C)'].values)\n",
    "humd_value_1 = list(device_07['Humidity(%RH)'].values)\n",
    "humd_value_2 = list(device_10['Humidity(%RH)'].values)\n",
    "co2_value_1 = list(device_07['CO2(ppm)'].values)\n",
    "co2_value_2 = list(device_10['CO2(ppm)'].values)\n",
    "nh3_value_1 = list(device_07['Ammonia(ppm)'].values)\n",
    "nh3_value_2 = list(device_10['Ammonia(ppm)'].values)\n",
    "\n",
    "temp_result = []\n",
    "humd_result = []\n",
    "co2_result = []\n",
    "nh3_result = []\n",
    "for i in range(len(temp_value_1)):\n",
    "    temp_result.append(temp_value_1[i] - temp_value_2[i])\n",
    "    humd_result.append(humd_value_1[i] - humd_value_2[i])\n",
    "    co2_result.append(co2_value_1[i] -  co2_value_2[i])\n",
    "    nh3_result.append(nh3_value_1[i] - nh3_value_2[i])\n",
    "    \n",
    "# df = pd.DataFrame(result, columns=[\"Temperature Difference\"])\n",
    "# df.to_excel(\"output.xlsx\", index=False)\n",
    "print('The maximum and minimum temperature difference is: ', max(temp_result) , min(temp_result))\n",
    "print('The maximum and minimum humidity difference is: ', max(humd_result), min(humd_result))\n",
    "print(\"The maximum and minimum co2 difference is:\", max(co2_result), min(co2_result))\n",
    "print(\"The maximum and minimum nh3 difference is:\", max(nh3_result), min(nh3_result))"
   ]
  },
  {
   "cell_type": "code",
   "execution_count": 44,
   "metadata": {},
   "outputs": [
    {
     "name": "stdout",
     "output_type": "stream",
     "text": [
      "The maximum and minimum temperature difference is:  65535.0 0.0\n"
     ]
    }
   ],
   "source": [
    "print('The maximum and minimum temperature difference is: ', max(temp_value_1) , min(temp_value_1))\n",
    "# print('The maximum and minimum humidity difference is: ', max(humd_result), min(humd_result))\n",
    "# print(\"The maximum and minimum co2 difference is:\", max(co2_result), min(co2_result))\n",
    "# print(\"The maximum and minimum nh3 difference is:\", max(nh3_result), min(nh3_result))"
   ]
  },
  {
   "cell_type": "code",
   "execution_count": null,
   "metadata": {},
   "outputs": [],
   "source": [
    "data = pd.read_excel(\"Data01.xlsx\")\n",
    "data.head()"
   ]
  },
  {
   "cell_type": "code",
   "execution_count": 25,
   "metadata": {},
   "outputs": [],
   "source": [
    "new_data = data[['Temp(øC)', 'CO2(ppm)', 'Humidity(%RH)', 'Ammonia(ppm)', 'Factored Ammonia', 'Dust(ppm)']]"
   ]
  },
  {
   "cell_type": "code",
   "execution_count": 26,
   "metadata": {},
   "outputs": [
    {
     "name": "stdout",
     "output_type": "stream",
     "text": [
      "<class 'pandas.core.frame.DataFrame'>\n",
      "RangeIndex: 415907 entries, 0 to 415906\n",
      "Data columns (total 6 columns):\n",
      " #   Column            Non-Null Count   Dtype  \n",
      "---  ------            --------------   -----  \n",
      " 0   Temp(øC)          415907 non-null  float64\n",
      " 1   CO2(ppm)          415907 non-null  float64\n",
      " 2   Humidity(%RH)     415907 non-null  float64\n",
      " 3   Ammonia(ppm)      415907 non-null  float64\n",
      " 4   Factored Ammonia  415907 non-null  float64\n",
      " 5   Dust(ppm)         415907 non-null  float64\n",
      "dtypes: float64(6)\n",
      "memory usage: 19.0 MB\n"
     ]
    }
   ],
   "source": [
    "new_data.info()"
   ]
  },
  {
   "cell_type": "code",
   "execution_count": 22,
   "metadata": {},
   "outputs": [
    {
     "data": {
      "text/html": [
       "<div>\n",
       "<style scoped>\n",
       "    .dataframe tbody tr th:only-of-type {\n",
       "        vertical-align: middle;\n",
       "    }\n",
       "\n",
       "    .dataframe tbody tr th {\n",
       "        vertical-align: top;\n",
       "    }\n",
       "\n",
       "    .dataframe thead th {\n",
       "        text-align: right;\n",
       "    }\n",
       "</style>\n",
       "<table border=\"1\" class=\"dataframe\">\n",
       "  <thead>\n",
       "    <tr style=\"text-align: right;\">\n",
       "      <th></th>\n",
       "      <th>Temp(øC)</th>\n",
       "      <th>CO2(ppm)</th>\n",
       "      <th>Humidity(%RH)</th>\n",
       "      <th>Ammonia(ppm)</th>\n",
       "      <th>Factored Ammonia</th>\n",
       "      <th>Dust(ppm)</th>\n",
       "    </tr>\n",
       "  </thead>\n",
       "  <tbody>\n",
       "    <tr>\n",
       "      <th>0</th>\n",
       "      <td>29</td>\n",
       "      <td>736</td>\n",
       "      <td>23</td>\n",
       "      <td>0</td>\n",
       "      <td>0</td>\n",
       "      <td>0</td>\n",
       "    </tr>\n",
       "    <tr>\n",
       "      <th>1</th>\n",
       "      <td>28</td>\n",
       "      <td>536</td>\n",
       "      <td>21</td>\n",
       "      <td>0</td>\n",
       "      <td>0</td>\n",
       "      <td>0</td>\n",
       "    </tr>\n",
       "    <tr>\n",
       "      <th>2</th>\n",
       "      <td>28</td>\n",
       "      <td>524</td>\n",
       "      <td>21</td>\n",
       "      <td>0</td>\n",
       "      <td>0</td>\n",
       "      <td>0</td>\n",
       "    </tr>\n",
       "    <tr>\n",
       "      <th>3</th>\n",
       "      <td>28</td>\n",
       "      <td>473</td>\n",
       "      <td>20</td>\n",
       "      <td>0</td>\n",
       "      <td>0</td>\n",
       "      <td>0</td>\n",
       "    </tr>\n",
       "    <tr>\n",
       "      <th>4</th>\n",
       "      <td>28</td>\n",
       "      <td>462</td>\n",
       "      <td>22</td>\n",
       "      <td>0</td>\n",
       "      <td>0</td>\n",
       "      <td>0</td>\n",
       "    </tr>\n",
       "  </tbody>\n",
       "</table>\n",
       "</div>"
      ],
      "text/plain": [
       "   Temp(øC)  CO2(ppm)  Humidity(%RH)  Ammonia(ppm)  Factored Ammonia  \\\n",
       "0        29       736             23             0                 0   \n",
       "1        28       536             21             0                 0   \n",
       "2        28       524             21             0                 0   \n",
       "3        28       473             20             0                 0   \n",
       "4        28       462             22             0                 0   \n",
       "\n",
       "   Dust(ppm)  \n",
       "0          0  \n",
       "1          0  \n",
       "2          0  \n",
       "3          0  \n",
       "4          0  "
      ]
     },
     "execution_count": 22,
     "metadata": {},
     "output_type": "execute_result"
    }
   ],
   "source": [
    "new_data.head()"
   ]
  },
  {
   "cell_type": "code",
   "execution_count": null,
   "metadata": {},
   "outputs": [],
   "source": []
  }
 ],
 "metadata": {
  "kernelspec": {
   "display_name": "base",
   "language": "python",
   "name": "python3"
  },
  "language_info": {
   "codemirror_mode": {
    "name": "ipython",
    "version": 3
   },
   "file_extension": ".py",
   "mimetype": "text/x-python",
   "name": "python",
   "nbconvert_exporter": "python",
   "pygments_lexer": "ipython3",
   "version": "3.9.12"
  }
 },
 "nbformat": 4,
 "nbformat_minor": 2
}
